{
  "nbformat": 4,
  "nbformat_minor": 0,
  "metadata": {
    "colab": {
      "provenance": [],
      "authorship_tag": "ABX9TyPI7ce3q/xRt6dlChA0SCI/",
      "include_colab_link": true
    },
    "kernelspec": {
      "name": "python3",
      "display_name": "Python 3"
    },
    "language_info": {
      "name": "python"
    }
  },
  "cells": [
    {
      "cell_type": "markdown",
      "metadata": {
        "id": "view-in-github",
        "colab_type": "text"
      },
      "source": [
        "<a href=\"https://colab.research.google.com/github/Nasirkhan-259/Nasirkhan-259/blob/master/TensorFlowPractise.ipynb\" target=\"_parent\"><img src=\"https://colab.research.google.com/assets/colab-badge.svg\" alt=\"Open In Colab\"/></a>"
      ]
    },
    {
      "cell_type": "code",
      "source": [
        "\n",
        "import tensorflow as tf\n",
        "from tensorflow import keras\n",
        "\n",
        "from tensorflow.keras import layers\n",
        "\n",
        "from tensorflow.keras.datasets import mnist\n",
        "\n",
        "(x_train,y_train) ,(x_test,y_test) = mnist.load_data()\n",
        "\n",
        "x_train = x_train.reshape(-1,28*28).astype('float32') / 255.0\n",
        "x_test = x_test.reshape(-1,28*28).astype('float32') / 255.0\n",
        "\n",
        "# Time for Sequential API\n",
        "model = keras.Sequential(\n",
        "    [\n",
        "        keras.Input(shape=(28 * 28,)),\n",
        "        layers.Dense(512, activation=\"relu\"),\n",
        "        layers.Dense(256, activation=\"relu\"),\n",
        "        layers.Dense(10),\n",
        "    ]\n",
        ")\n",
        "model = keras.Sequential()\n",
        "model.add(keras.Input(shape=(784,)))\n",
        "model.add(layers.Dense(512, activation=\"relu\"))\n",
        "model.add(layers.Dense(256, activation=\"relu\", name=\"my_layer\"))\n",
        "model.add(layers.Dense(10))\n",
        "\n",
        "# Functional API (A bit more flexible)\n",
        "inputs = keras.Input(shape=(784,))\n",
        "x = layers.Dense(512, activation=\"relu\", name=\"first_layer\")(inputs)\n",
        "x = layers.Dense(256, activation=\"relu\", name=\"second_layer\")(x)\n",
        "outputs = layers.Dense(10, activation=\"softmax\")(x)\n",
        "model = keras.Model(inputs=inputs, outputs=outputs)\n",
        "\n",
        "model.compile(\n",
        "    loss=keras.losses.SparseCategoricalCrossentropy(from_logits=False),\n",
        "    optimizer=keras.optimizers.Adam(),\n",
        "    metrics=[\"accuracy\"],\n",
        ")\n",
        "\n",
        "model.fit(x_train, y_train, batch_size=32, epochs=5, verbose=2)\n",
        "model.evaluate(x_test, y_test, batch_size=32, verbose=2)"
      ],
      "metadata": {
        "colab": {
          "base_uri": "https://localhost:8080/"
        },
        "id": "_RET1t63udZ0",
        "outputId": "2b6b43ee-6b88-4fc7-f7ad-4437f821ee39"
      },
      "execution_count": 24,
      "outputs": [
        {
          "output_type": "stream",
          "name": "stdout",
          "text": [
            "Epoch 1/5\n",
            "1875/1875 - 15s - 8ms/step - accuracy: 0.9439 - loss: 0.1861\n",
            "Epoch 2/5\n",
            "1875/1875 - 14s - 8ms/step - accuracy: 0.9753 - loss: 0.0782\n",
            "Epoch 3/5\n",
            "1875/1875 - 15s - 8ms/step - accuracy: 0.9825 - loss: 0.0540\n",
            "Epoch 4/5\n",
            "1875/1875 - 15s - 8ms/step - accuracy: 0.9876 - loss: 0.0399\n",
            "Epoch 5/5\n",
            "1875/1875 - 15s - 8ms/step - accuracy: 0.9887 - loss: 0.0334\n",
            "313/313 - 1s - 3ms/step - accuracy: 0.9795 - loss: 0.0794\n"
          ]
        },
        {
          "output_type": "execute_result",
          "data": {
            "text/plain": [
              "[0.0793803259730339, 0.9794999957084656]"
            ]
          },
          "metadata": {},
          "execution_count": 24
        }
      ]
    }
  ]
}